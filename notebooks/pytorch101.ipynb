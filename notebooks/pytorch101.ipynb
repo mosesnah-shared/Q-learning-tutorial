{
 "cells": [
  {
   "cell_type": "markdown",
   "metadata": {},
   "source": [
    "# Understanding PyTorch\n",
    "\n",
    "We use this notebook to study about the structure of PyTorch"
   ]
  },
  {
   "cell_type": "code",
   "execution_count": 1,
   "metadata": {},
   "outputs": [
    {
     "name": "stderr",
     "output_type": "stream",
     "text": [
      "/Users/mosesnah/Documents/projects/machine-learning-tutorial/.venv/lib/python3.8/site-packages/tqdm/auto.py:22: TqdmWarning: IProgress not found. Please update jupyter and ipywidgets. See https://ipywidgets.readthedocs.io/en/stable/user_install.html\n",
      "  from .autonotebook import tqdm as notebook_tqdm\n"
     ]
    }
   ],
   "source": [
    "import sys\n",
    "import gym\n",
    "import time\n",
    "import numpy as np  \n",
    "\n",
    "import torch  \n",
    "import torch.nn            as nn\n",
    "import torch.nn.functional as F\n",
    "import torch.optim         as optim\n",
    "from   torch.autograd import Variable\n",
    "\n",
    "import matplotlib.pyplot   as plt\n"
   ]
  },
  {
   "cell_type": "code",
   "execution_count": 15,
   "metadata": {},
   "outputs": [],
   "source": [
    "\n",
    "layer1 = nn.Linear( 3, 5 )\n",
    "layer2 = nn.Linear( 5, 4 )\n",
    "\n",
    "input_arr = np.arange( 3, dtype = np.float32 )\n",
    "\n",
    "input = torch.from_numpy( input_arr ).float( ).unsqueeze( 0 )\n",
    "\n",
    "x12 = F.relu( layer1( input ) )                 \n",
    "x23 = F.softmax( layer2( x12 ) )\n",
    "\n",
    "\n",
    "\n"
   ]
  },
  {
   "cell_type": "markdown",
   "metadata": {},
   "source": [
    "# Example Network\n",
    "We use a three layer network"
   ]
  },
  {
   "cell_type": "code",
   "execution_count": 26,
   "metadata": {},
   "outputs": [],
   "source": [
    "\n",
    "class ExampleNetwork( nn.Module ):\n",
    "    def __init__( self, num_inputs, num_outputs, hidden_size, learning_rate = 3e-4 ):\n",
    "        super( ExampleNetwork , self).__init__()\n",
    "\n",
    "        self.num_actions = num_inputs\n",
    "        self.linear1     = nn.Linear( num_inputs, hidden_size  )\n",
    "        self.linear2     = nn.Linear( hidden_size, num_outputs )\n",
    "\n",
    "        # Using the ADAM optimizer. \n",
    "        self.optimizer   = optim.Adam( self.parameters( ), lr = learning_rate )\n",
    "\n",
    "    def forward( self, state ):\n",
    "        x = F.relu( self.linear1( state ) )\n",
    "        x = F.softmax( self.linear2( x ), dim = 1 )\n",
    "        return x \n",
    "    \n",
    "    def get_action( self, state ):\n",
    "        # Generates a 1 x ns tensor.\n",
    "        state = torch.from_numpy( state ).float( ).unsqueeze( 0 ) \n",
    "\n",
    "        # Forward the neural network and return the prbability distribution function\n",
    "        probs = self.forward( state  )\n",
    "\n",
    "        # Choosing the action based on the output policy\n",
    "        highest_prob_action = np.random.choice( self.num_actions, p = np.squeeze( probs.detach( ).numpy( ) ) )\n",
    "\n",
    "        # The log-value of the probability just for the sake of policy gradient\n",
    "        log_prob = torch.log( probs.squeeze( 0 )[ highest_prob_action ] )\n",
    "        \n",
    "        return highest_prob_action, log_prob\n"
   ]
  },
  {
   "cell_type": "code",
   "execution_count": 46,
   "metadata": {},
   "outputs": [
    {
     "data": {
      "text/plain": [
       "tensor(4., grad_fn=<DotBackward0>)"
      ]
     },
     "execution_count": 46,
     "metadata": {},
     "output_type": "execute_result"
    }
   ],
   "source": [
    "\n",
    "tmp_nn = ExampleNetwork( 3, 1, 4 )\n",
    "\n",
    "input = torch.tensor( [1.,3.,2. ] )\n",
    "out1 = tmp_nn( input.unsqueeze( 0 ) ).squeeze( )\n",
    "\n",
    "input = torch.tensor( [5.,4.,3. ] )\n",
    "out2 = tmp_nn( input.unsqueeze( 0 ) ).squeeze( )\n",
    "\n",
    "out_list = [ out1, out2 ]\n",
    "\n",
    "tmp = torch.stack( out_list, dim = 0 )\n",
    "torch.dot( tmp, torch.tensor( [ 1., 3. ]))\n",
    "\n"
   ]
  }
 ],
 "metadata": {
  "interpreter": {
   "hash": "742fb12a3d29bb1ab201ca06dfc1cb9996440041728c355377b69362e9fdf7ce"
  },
  "kernelspec": {
   "display_name": "Python 3.8.2 ('.venv': venv)",
   "language": "python",
   "name": "python3"
  },
  "language_info": {
   "codemirror_mode": {
    "name": "ipython",
    "version": 3
   },
   "file_extension": ".py",
   "mimetype": "text/x-python",
   "name": "python",
   "nbconvert_exporter": "python",
   "pygments_lexer": "ipython3",
   "version": "3.8.2"
  },
  "orig_nbformat": 4
 },
 "nbformat": 4,
 "nbformat_minor": 2
}
